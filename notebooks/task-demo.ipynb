{
 "cells": [
  {
   "cell_type": "code",
   "execution_count": 1,
   "id": "6b405283-8480-4ba6-b5d6-8e8b509290f0",
   "metadata": {
    "execution": {
     "iopub.execute_input": "2023-12-14T21:50:29.767878Z",
     "iopub.status.busy": "2023-12-14T21:50:29.767761Z",
     "iopub.status.idle": "2023-12-14T21:50:30.293717Z",
     "shell.execute_reply": "2023-12-14T21:50:30.293271Z",
     "shell.execute_reply.started": "2023-12-14T21:50:29.767867Z"
    }
   },
   "outputs": [],
   "source": [
    "import sys\n",
    "import lsst.daf.butler as dafButler\n",
    "import lsst.heliolinc3d.makeTracklets as mt"
   ]
  },
  {
   "cell_type": "code",
   "execution_count": null,
   "id": "e7c88951-ae96-4da2-ad58-1631180f77ea",
   "metadata": {},
   "outputs": [],
   "source": [
    "#  pipetask run -p ssp-heliolinc.yaml -b /repo/main -i u/mjuric/test-small\n",
    "# (note: to automatically register datasets, use --register-dataset-types)"
   ]
  },
  {
   "cell_type": "code",
   "execution_count": null,
   "id": "bb4ebb17-2f06-4e51-bee5-473f14a1934e",
   "metadata": {},
   "outputs": [],
   "source": [
    "# pipetask run -p ssp-heliolinc.yaml -b /repo/main -i u/mjuric/test-small -o u/mjuric/test-small-output"
   ]
  },
  {
   "cell_type": "code",
   "execution_count": 1,
   "id": "d125ddbc-5f10-4cf2-9918-e3ed4d9ed203",
   "metadata": {
    "execution": {
     "iopub.execute_input": "2024-03-15T17:15:10.073449Z",
     "iopub.status.busy": "2024-03-15T17:15:10.073149Z",
     "iopub.status.idle": "2024-03-15T17:15:10.075863Z",
     "shell.execute_reply": "2024-03-15T17:15:10.075362Z",
     "shell.execute_reply.started": "2024-03-15T17:15:10.073434Z"
    }
   },
   "outputs": [],
   "source": [
    "# butler query-dataset-types /repo/main \"ssp*\" -v"
   ]
  },
  {
   "cell_type": "markdown",
   "id": "fa5e6bfa-3201-46d7-8acb-f7ca4682bb3f",
   "metadata": {},
   "source": [
    "```\n",
    "source /sdf/group/rubin/sw/w_latest/loadLSST.sh\n",
    "setup lsst_distrib\n",
    "(lsst-scipipe-8.0.0) [mjuric@sdfrome002 analysis_ap]$ butler query-dataset-types /repo/main ssp* -v\n",
    "        name          dimensions   storage class\n",
    "------------------- -------------- -------------\n",
    " sspDiaSourceInputs ['instrument']     DataFrame\n",
    " sspTrackletSources ['instrument']     DataFrame\n",
    "sspTrackletToSource ['instrument']     DataFrame\n",
    "       sspTracklets ['instrument']     DataFrame\n",
    "     sspVisitInputs ['instrument']     DataFrame\n",
    "(lsst-scipipe-8.0.0) [mjuric@sdfrome002 analysis_ap]$ butler query-datasets /repo/main sspDiaSourceInputs\n",
    "\n",
    "       type                run                          id                  instrument\n",
    "------------------ ------------------- ------------------------------------ ----------\n",
    "sspDiaSourceInputs   u/mjuric/DM-35092 0e64d05d-97d6-4f4d-b8b2-3c9a125d9ff0        HSC\n",
    "sspDiaSourceInputs u/mjuric/test-small f18d1e99-d6c0-4052-9666-3922d71a4701        HSC\n",
    "(lsst-scipipe-8.0.0) [mjuric@sdfrome002 ~]$ butler query-datasets /repo/main sspTracklets\n",
    "\n",
    "    type                         run                                      id                  instrument\n",
    "------------ ------------------------------------------- ------------------------------------ ----------\n",
    "sspTracklets u/mjuric/test-small-output/20231214T225037Z cce0a566-fa39-419c-b34a-17b4eee7e54c        HSC\n",
    "(lsst-scipipe-8.0.0) [mjuric@sdfrome002 notebooks]$ setup -k -r ~/projects/heliolinc2\n",
    "```"
   ]
  },
  {
   "cell_type": "code",
   "execution_count": null,
   "id": "ffd238f6-4de5-4a1b-9bb6-f88c061ea1fd",
   "metadata": {},
   "outputs": [],
   "source": [
    "    1. (arg0: heliohypy.MakeTrackletsConfig, arg1: numpy.ndarray[heliohypy.hldet], arg2: numpy.ndarray[heliohypy.hlimage]) -> Tuple[numpy.ndarray, numpy.ndarray, numpy.ndarray]\n",
    "\n",
    "Invoked with: lsst.heliolinc3d.makeTracklets.MakeTrackletsConfig(saveLogOutput=True, mintrkpts=2, imagetimetol=2.3148148148148147e-05, maxvel=1.5, minvel=0.0, minarc=0.0, maxtime=0.0625, mintime=1.1574074074074073e-05, imagerad=5.0, maxgcr=0.5, timespan=14.0, forcerun=0, verbose=1, connections={'diaSourceTable': 'sspDiaSourceInputs', 'visitTable': 'sspVisitInputs', 'trackletSources': 'sspTrackletSources', 'tracklets': 'sspTracklets', 'trk2det': 'sspTrackletToSource'}), array([(60603.28403533, 37.73340151, -4.27262585, 16.84242676, 0., 0., 0., 0., 0., 0, b'S10007t0a', b'z', b'X05', 0, 0, 0)\n",
    "                                                                                                                                                                                                                                                                                                                                                                                                                                                                                                 "
   ]
  }
 ],
 "metadata": {
  "kernelspec": {
   "display_name": "LSST",
   "language": "python",
   "name": "lsst"
  },
  "language_info": {
   "codemirror_mode": {
    "name": "ipython",
    "version": 3
   },
   "file_extension": ".py",
   "mimetype": "text/x-python",
   "name": "python",
   "nbconvert_exporter": "python",
   "pygments_lexer": "ipython3",
   "version": "3.11.7"
  }
 },
 "nbformat": 4,
 "nbformat_minor": 5
}
